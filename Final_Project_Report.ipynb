{
 "cells": [
  {
   "cell_type": "markdown",
   "metadata": {},
   "source": [
    "# Role of ENSO on the Characteristics of the ITCZ"
   ]
  },
  {
   "cell_type": "markdown",
   "metadata": {},
   "source": [
    "## Background\n",
    "\n",
    "The Intertropical Convergence Zone (ITCZ), also known as the \\textit{doldrums}, is a low pressure band of high convection around the Earth's equator. The convection in this region is driven by Hadley cells north and south of the equator that drive meridional surface winds towards the equator and push moist air upwards. In the Eastern Tropical Pacific, the location of the ITCZ is primarily north of the equator, ranging around 5 - 15 $^{\\circ}$ N [1]. However, the ITCZ's location fluctuates, mostly due to changes in SST [2]. The location and intensity of the Eastern Pacific (EP) ITZC plays a large role in local metoerology, affecting the precipitation on the coastal regions of Western Central America and South America. Therefore, understanding the patterns and mechanisms of the EP ITCZ are of a great interest to the atmospheric science community.\n",
    "\n",
    "The ITCZ in itself is a vague concept, but in previous studies, its position and intensity have been characterized by precipitation, sea surface temperature (SST), and winds at the surface and top of the plantary boundary layer. Some have gone so far as to create indices for the ITCZ that describe precipitation, and therefore location, as more northern or southern [7]. \n",
    "\n",
    "In the past, scientists have studied the relationship between the ITCZ and ENSO events. Reviews have been published on the correlation between El Nino/La Nina events and the SST and precipitation anomalies in the Eastern Pacific ITCZ [6], which have shown that warm phases of ENSO correspond with positive SST anomalies in the Eastern Pacific. In [5], linear regression analyses has been utilized to study the relationship between ENSO and ITCZ dynamics. Additionally, a similar study on basic correlations between the parameters used to characterize the ITCZ, descibed above, and the ENSO index was performed for the Atlantic ITCZ [3].\n",
    "\n",
    "For this project, I plan to study the correlation between ENSO events, using the ENSO 3 index, and parameter used to define the EP ITZC, in a similar manner to the work done in [3]. For sufficiently correlated parameters, I will then use the ENSO 3 index to perfrom linear regression and make predicitions for EP ITCZ location and intensity. \n",
    " \n"
   ]
  },
  {
   "cell_type": "markdown",
   "metadata": {},
   "source": [
    "## Data and Methods"
   ]
  },
  {
   "cell_type": "markdown",
   "metadata": {},
   "source": [
    "## Data \n",
    "\n",
    "Classification of the ITZC has taken many forms. Since the main feautres of the ITCZ are bands of convection, I have classify the Eastern Pacific ITCZ by studying SST and preicpiation. For this project, I will be using the ENSO indices from IRI's data collection as well as NOAA's COBE SST data and CMAP precipiation data. Below, is a table which describes the datasets that I will be using in detail. \n",
    "\n",
    "| Description | Temporal Span | Temporal Resolution | Spatial Span | Spatial Resolution | Format | Source | \n",
    "| :---------: | :-----------: | :-----------------: | :----------: | :----------------: | :----: | :----: |\n",
    "| ENSO Indices | Nov 1981 - Sep 2020 | Monthly | N/A | N/A | netCDF | IRI LDEO (http://iridl.ldeo.columbia.edu/SOURCES/.Indices/.nino/?Set-Language=en) | \n",
    "| SST | Jan 1981 - Present | Monthly | 89.5 N - 89.5 S, 0.5 E - 359.5 E | 1$^{\\circ}$ lat $\\times$ 1$^{\\circ}$ lon | netCDF | NOAA COBE SST (https://psl.noaa.gov/data/gridded/data.cobe.html) | \n",
    "| Precipitation | Jan 1979 - Sep 2020 | Monthly | 88.75 N - 88.75 S, 1.25 E - 358.75 E | 2.5$^{\\circ}$ lat $\\times$ 2.5$^{\\circ}$ lon | netCDF | NOAA CMAP (https://psl.noaa.gov/data/gridded/data.cmap.html) | \n",
    "\n",
    "To study the effect of ENSO on the EP ITCZ, I will be limiting the range of study to the latitude range 30 $^{\\circ}$ S - 30 $^{\\circ}$ N, and to the longitude range of the Nino 3 index (150 $^{\\circ}$ W - 90 $^{\\circ}$ W). \n",
    "\n",
    "Over the region of interest, the precipitation anomaly as a mean over longitudinal values shows a qualitative correlation between warm ENSO event and higher precipitation in the south of the average ITCZ equatorial regions, suggesting a southwardward push of the ITCZ during warm ENSO events (see Fig 1). \n",
    "\n",
    "<figure class=\"image\">\n",
    "  <center><img src=\"Figures/precip_ts.jpeg\"></center>\n",
    "  <center><figcaption>Fig. 1: A plot of Average Longitudinal Precipitation Anomaly overlaid with the Nino 3 index.</figcaption><center>\n",
    "</figure>\n",
    "      \n",
    "Additonally, I will be using an index that described location of the majority of precipitation in the region of interest, as desribed in Yu and Zhang (2018) [7]. The index itself is desribed as\n",
    "\n",
    "$$\n",
    "    I_{a} = \\frac{P_{NEP} - P_{SEP}}{P_{m}}\n",
    "$$\n",
    "      \n",
    "where $P_{NEP}$ is the Northeastern Equatorial Pacific Precipitation, $P_{SEP}$ is the Southeastern Equatorial Precipitation, and $P_{m}$ is the mean precicpiation rate, defined as \n",
    "      \n",
    "$$\n",
    "    P_{m} = \\frac{1}{3}(P_{NEP} + P_{EEP} + P_{SEP})\n",
    "$$\n",
    " \n",
    "where $P_{EEP}$ is the Eastern Equatorial Pacific Precipiation. These regions are broken down by latitude, where the NEP ranges from 2 - 10 $^{\\circ}$ N, the SEP ranges from 10 - 2 $^{\\circ}$ S and the EEP ranges from 2 $^{\\circ}$ S - 2 $^{\\circ}$ N. From the time series of the ITCZ index anomaly, it's dificult to say quantitatively if there is a direct correltation between ENSO events and ITCZ location (see Fig 2). \n",
    "      \n",
    "<figure class=\"image\">\n",
    "  <center><img src=\"Figures/EP_Precip_Index_Anom.jpg\"></center>\n",
    "  <center><figcaption>Fig. 2: A plot of the ITCZ index anomaly over time.</figcaption><center>\n",
    "</figure>\n",
    "      \n",
    "Similary, the time series of SST anomalies as a mean over longitudinal values also shows a basic correlation with warm ENSO events. \n",
    "\n",
    "<figure class=\"image\">\n",
    "  <center><img src=\"Figures/ssta_ts.jpg\"></center>\n",
    "  <center><figcaption>Fig. 3: A plot of Average Longitudinal SST Anomaly overlaid with the Nino 3 index.</figcaption><center>\n",
    "</figure>\n",
    "      \n",
    "## Methods\n",
    "\n",
    "To study the correlation of the Nino 3 index and the paramteres related to the EP ITCZ, I will using Pearson's Correlation Coefficent (calculating it directly for 1D variables and using xarray.corr() for higher dimension variables). Pearson's Correlation Coefficient between two random variables, $X$ and $Y$ is defined as\n",
    "      \n",
    "$$\n",
    "    \\rho_{X,Y} = \\frac{\\text{cov}(X,Y)}{\\sigma_{X}\\sigma_{Y}}\n",
    "$$\n",
    "      \n",
    "When a variables has a substanitial correlation to the Nino 3 index value, I will perfrom a linear regresion to predict said varaibles using the Nino 3 index. The linear regression forecast of a variable $Y$ using a variable $X$ is defined as \n",
    "\n",
    "$$\n",
    "    \\hat{\\beta} = (X^{T}X)^{-1}X^{T} y \\quad\\quad\\quad \\hat{y} = X\\hat{\\beta}\n",
    "$$\n",
    "      \n",
    "I will perform this analysis for the global values of precipitation and SST anomalies. For further investigation, I will also study the correlation between monthly values of the Nino 3 index and the characteristic of the ITCZ. "
   ]
  },
  {
   "cell_type": "markdown",
   "metadata": {},
   "source": [
    "## Analysis and Results\n",
    "\n",
    "Since I am primarily interested in the latitudinal structure of the ITCZ, I have first decided to study the correlation between the mean precipitation over longitude in the study region and the Nino 3 index. For all monthly values, it appears that precipitation close to the equator is highly correlated with the Nino 3 index, as seen in Figure 4. \n",
    "\n",
    "<figure class=\"image\">\n",
    "  <center><img src=\"Figures/Corr_Prcp_N3.jpeg\"></center>\n",
    "  <center><figcaption>Fig. 4: Correlation between monthly average precipitation and the Nino 3 index.</figcaption><center>\n",
    "</figure>\n",
    "\n",
    "When studying the avarage precipiation over longitudes at different months in the years and the correlation to their corresponding Nino 3 index monthly values, we can see that the correlation varies depending on the time of year. For example, it appears that the correlations is stronger close to the equator during the months of March, June, September, October, and November. \n",
    "\n",
    "<figure class=\"image\">\n",
    "  <center><img src=\"Figures/Corr_Prcp_by_month.jpeg\"></center>\n",
    "  <center><figcaption>Fig. 5: Correlation between monthly average precipitation and the Nino 3 index.</figcaption><center>\n",
    "</figure>\n",
    "\n",
    "Since the equatorial precipitation is so strongly related to the Nino 3 index, I'll attempt to perfrom linear regression forecasting for precipitation. First, as a test, I used linear regression to forecast the last observed precipitation value for every month (seen below in figure 6). A horizonatal line is drawn at the latitude that corresponds to peak precipitation, to give an idea about the latitudinal structure of the ITCZ. We can see that, compared to the observed precipitation, the linear forecast does a good job at replicating the general position of precipitation in the study regions, while the intensity is a tad underestimated. However, the location of the precipitation band is approximately the same for many of the months. Here, we see that during the winter and early spring months the ITCZ location is slightly more south and moves more north once coming into the summer and early fall months. \n",
    "      \n",
    "<figure class=\"image\">\n",
    "  <center><img src=\"Figures/Precip_forecast_2020.jpg\"></center>\n",
    "  <center><figcaption>Fig. 6: Linear Regression Forecasts of Monthly Precipitation Values for the previous year and a comparison to the observed values.</figcaption><center>\n",
    "</figure>      \n",
    "      \n",
    "Making a prediction then of the upcoming year, the linear regression forecasts of monthly precipitation values are seen in figure 7. Again horiztonal lines are drawn in at peak precipitation to give an idea about the location of the ITCZ. According to this forecast based on the Nino 3 index, we see similarly that during the next few months, the ITCZ shifts to lower latitudes, closer to the equator, and then in the summer months starts to move more north. \n",
    "      \n",
    "<figure class=\"image\">\n",
    "  <center><img src=\"Figures/Precip_forecast_2021.png\"></center>\n",
    "  <center><figcaption>Fig. 7: Linear Regression Forecasts of Monthly Precipitation Values for the next year.</figcaption><center>\n",
    "</figure>\n",
    "      \n",
    "Using the ITZC index described previously, we can also analyze the correlation between this index and the Nino 3 index. Figure 8 shows the correlation as well as the linear regression line based on Nino 3 index. The correlation coefficient between the two indices is -0.17, which shows that there isn't a desicively strong correlation between the two. Since the correlation is not strong, a linear regression forecast made for the ITCZ index is not very accurate, as demonstrated with the predicited and observed 2020 values. \n",
    "      \n",
    "<figure class=\"image\">\n",
    "  <center><img src=\"Figures/LR_index_N3.jpeg.jpg\"></center>\n",
    "  <center><figcaption>Fig. 8: Correlation and Linear Regression Forecasts of the ITCZ Index values.</figcaption><center>\n",
    "</figure>\n",
    "      \n",
    "Finally, we can take a look at the correlation between SST anomaly and the Nino 3 index. Whereas I expected to find a strong correlation, it appears that the anomaly does not strongly correlate with the Nino 3 index and actually seems to decrease with increasing latitudes. Perhaps something has gone wrong with my analysis, because the pattern of correaltion does not make much sense. \n",
    "      \n",
    "<figure class=\"image\">\n",
    "  <center><img src=\"Figures/Corr_SSTAnom_N3.jpeg\"></center>\n",
    "  <center><figcaption>Fig. 9: Correlation between SST anaomaly and Nino 3 Index.</figcaption><center>\n",
    "</figure>\n",
    "      \n",
    "Looking at the correlation between the monthly values, we see the same decrease in correlation over latitude values (see Fig 10). In all cases, there seems to not be any strong correlation between SST anomalies averaged over longitudes in the region of interest and the Nino 3 index. \n",
    "\n",
    "<figure class=\"image\">\n",
    "  <center><img src=\"Figures/Corr_SST_montly.jpg\"></center>\n",
    "  <center><figcaption>Fig. 10: Monthly correlations between SST anomaly and the Nino 3 index.</figcaption><center>\n",
    "</figure>"
   ]
  },
  {
   "cell_type": "markdown",
   "metadata": {},
   "source": [
    "## Conclusion\n",
    "\n",
    "Overall, it appears that precipitation has a strong correlation with ENSO events near the equator, while SST anomalies and the ITCZ index are not as strong correlated with the Nino 3 index. It appears that warm ENSO event in the Nino 3 region, corresponding to the Equatorial Eastern Pacific, correlate to ITCZ positions that are lower than average while cold ENSO events correpsond to more northern ITCZs. Due to the strong correlation between precipitation and the Nino 3 index, I was able to make linear regression forecast for the upcoming movement of the ITCZ. In the following months, it appears that the ITCZ in the Eastern Pacific will be located more southern that normal (in lower northern latitutdes) and it seems that once we come into the upcoming summer months, the ITCZ will be pushed more north once again.\n",
    "\n",
    "Overall, it appears that ENSO does at least play a role in the location of the ITCZ, and can be used to effectively forecast the latitudinal structure of the EP ITCZ. "
   ]
  },
  {
   "cell_type": "markdown",
   "metadata": {},
   "source": [
    "## References\n",
    "\n",
    "[1] “ITCZ Breakdown and Its Upscale Impact on the Planetary-Scale Circulation over the Eastern Pacific in: Journal of Atmospheric Sciences Volume 74 Issue 12 (2017).” Accessed December 3, 2020. https://journals.ametsoc.org/view/journals/atsc/74/12/jas-d-17-0021.1.xml?tab_body=fulltext-display.\n",
    "\n",
    "[2] M. A., Geography, and Geography B. A. “What Is the Intertropical Convergence Zone?” ThoughtCo. Accessed December 3, 2020. https://www.thoughtco.com/itcz-1434436.\n",
    "\n",
    "[3] Münnich, Matthias, and J. Neelin. “Seasonal Influence of ENSO on the Atlantic ITCZ and Equatorial South America.” Geophysical Research Letters - GEOPHYS RES LETT 322 (November 16, 2005). https://doi.org/10.1029/2005GL023900.\n",
    "\n",
    "[4] Raymond, David J. “Convection in the East Pacific Intertropical Convergence Zone.” Geophysical Research Letters 44, no. 1 (2017): 562–68. https://doi.org/10.1002/2016GL071554.\n",
    "\n",
    "[5] Sulca, Juan, Ken Takahashi, Jhan-Carlo Espinoza, Mathias Vuille, and Waldo Lavado‐Casimiro. “Impacts of Different ENSO Flavors and Tropical Pacific Convection Variability (ITCZ, SPCZ) on Austral Summer Rainfall in South America, with a Focus on Peru.” International Journal of Climatology 38, no. 1 (2018): 420–35. https://doi.org/10.1002/joc.5185.\n",
    "\n",
    "[6] Wang, Chunzai, and Paul C. Fiedler. “ENSO Variability and the Eastern Tropical Pacific: A Review.” Progress in Oceanography, A Review of Eastern Tropical Pacific Oceanography, 69, no. 2 (May 1, 2006): 239–66. https://doi.org/10.1016/j.pocean.2006.03.004.\n",
    "\n",
    "[7] Yu, Haiyang, and Minghua Zhang. “Explaining the Year-to-Year Variability of the Eastern Pacific Intertropical Convergence Zone in the Boreal Spring.” Journal of Geophysical Research: Atmospheres 123, no. 8 (2018): 3847–56. https://doi.org/10.1002/2017JD028156.\n"
   ]
  }
 ],
 "metadata": {
  "kernelspec": {
   "display_name": "Python 3",
   "language": "python",
   "name": "python3"
  },
  "language_info": {
   "codemirror_mode": {
    "name": "ipython",
    "version": 3
   },
   "file_extension": ".py",
   "mimetype": "text/x-python",
   "name": "python",
   "nbconvert_exporter": "python",
   "pygments_lexer": "ipython3",
   "version": "3.8.5"
  }
 },
 "nbformat": 4,
 "nbformat_minor": 4
}
